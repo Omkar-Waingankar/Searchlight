{
 "cells": [
  {
   "cell_type": "code",
   "execution_count": 11,
   "metadata": {},
   "outputs": [],
   "source": [
    "import pandas as pd\n",
    "import re\n",
    "import numpy as np\n",
    "import urllib\n",
    "from pathlib import Path\n",
    "import math\n",
    "from tqdm import tqdm"
   ]
  },
  {
   "cell_type": "code",
   "execution_count": 3,
   "metadata": {
    "collapsed": true
   },
   "outputs": [],
   "source": [
    "month_dict = {'January': 1, 'February': 2, 'March': 3, 'April': 4, 'May': 5, 'June': 6, 'July': 7,\n",
    "             'August': 8, 'September': 9, 'October': 10, 'November': 11, 'December': 12}"
   ]
  },
  {
   "cell_type": "code",
   "execution_count": 4,
   "metadata": {
    "collapsed": true
   },
   "outputs": [],
   "source": [
    "speeches = pd.read_csv('allspeeches.csv')"
   ]
  },
  {
   "cell_type": "code",
   "execution_count": 5,
   "metadata": {},
   "outputs": [
    {
     "data": {
      "text/plain": [
       "Index(['speech_id', 'topic_id', 'word_count', 'speech_text', 'file_name',\n",
       "       'mods_file', 'speaker_id', 'proceeding_title', 'year', 'month', 'day'],\n",
       "      dtype='object')"
      ]
     },
     "execution_count": 5,
     "metadata": {},
     "output_type": "execute_result"
    }
   ],
   "source": [
    "speeches.columns"
   ]
  },
  {
   "cell_type": "code",
   "execution_count": 38,
   "metadata": {},
   "outputs": [
    {
     "data": {
      "text/plain": [
       "2"
      ]
     },
     "execution_count": 38,
     "metadata": {},
     "output_type": "execute_result"
    }
   ],
   "source": [
    "month_column = np.array(speeches.iloc[:,9])\n",
    "month_column[5] = 2\n",
    "month_column[5]"
   ]
  },
  {
   "cell_type": "code",
   "execution_count": 39,
   "metadata": {},
   "outputs": [
    {
     "name": "stderr",
     "output_type": "stream",
     "text": [
      "\n",
      "\n",
      "  0%|          | 0/1124011 [00:00<?, ?it/s]\u001b[A\u001b[A\n",
      "\n",
      "  9%|▉         | 100725/1124011 [00:00<00:01, 986918.69it/s]\u001b[A\u001b[A\n",
      "\n",
      " 20%|██        | 225867/1124011 [00:00<00:00, 1122705.79it/s]\u001b[A\u001b[A\n",
      "\n",
      " 28%|██▊       | 315346/1124011 [00:00<00:00, 1045844.04it/s]\u001b[A\u001b[A\n",
      "\n",
      " 37%|███▋      | 413236/1124011 [00:00<00:00, 1028631.20it/s]\u001b[A\u001b[A\n",
      "\n",
      " 46%|████▋     | 520867/1124011 [00:00<00:00, 1038885.57it/s]\u001b[A\u001b[A\n",
      "\n",
      " 56%|█████▌    | 628686/1124011 [00:00<00:00, 1042332.56it/s]\u001b[A\u001b[A\n",
      "\n",
      " 66%|██████▌   | 741175/1124011 [00:00<00:00, 1055788.50it/s]\u001b[A\u001b[A\n",
      "\n",
      " 77%|███████▋  | 860256/1124011 [00:00<00:00, 1073547.27it/s]\u001b[A\u001b[A\n",
      "\n",
      " 87%|████████▋ | 982680/1124011 [00:00<00:00, 1090289.26it/s]\u001b[A\u001b[A\n",
      "\n",
      " 98%|█████████▊| 1105681/1124011 [00:01<00:00, 1103974.36it/s]\u001b[A\u001b[A\n",
      "\n",
      "100%|██████████| 1124011/1124011 [00:01<00:00, 1098315.07it/s]\u001b[A\u001b[A"
     ]
    }
   ],
   "source": [
    "for i in tqdm(range(len(month_column))):\n",
    "    if type(month_column[i]) == type(5):\n",
    "        continue\n",
    "    month_column[i] = month_dict[month_column[i]]"
   ]
  },
  {
   "cell_type": "code",
   "execution_count": 40,
   "metadata": {},
   "outputs": [],
   "source": [
    "speeches['month'] = month_column"
   ]
  },
  {
   "cell_type": "code",
   "execution_count": 41,
   "metadata": {},
   "outputs": [
    {
     "data": {
      "text/plain": [
       "7"
      ]
     },
     "execution_count": 41,
     "metadata": {},
     "output_type": "execute_result"
    }
   ],
   "source": [
    "speeches['month'][1097364]"
   ]
  },
  {
   "cell_type": "code",
   "execution_count": 42,
   "metadata": {},
   "outputs": [
    {
     "data": {
      "text/plain": [
       "Index(['speech_id', 'topic_id', 'word_count', 'speech_text', 'file_name',\n",
       "       'mods_file', 'speaker_id', 'proceeding_title', 'year', 'month', 'day'],\n",
       "      dtype='object')"
      ]
     },
     "execution_count": 42,
     "metadata": {},
     "output_type": "execute_result"
    }
   ],
   "source": [
    "speeches.columns"
   ]
  },
  {
   "cell_type": "code",
   "execution_count": 43,
   "metadata": {
    "collapsed": true
   },
   "outputs": [],
   "source": [
    "speeches.to_csv('allspeeches_num.csv', index=False)"
   ]
  },
  {
   "cell_type": "code",
   "execution_count": null,
   "metadata": {
    "collapsed": true
   },
   "outputs": [],
   "source": []
  }
 ],
 "metadata": {
  "kernelspec": {
   "display_name": "Python 3",
   "language": "python",
   "name": "python3"
  },
  "language_info": {
   "codemirror_mode": {
    "name": "ipython",
    "version": 3
   },
   "file_extension": ".py",
   "mimetype": "text/x-python",
   "name": "python",
   "nbconvert_exporter": "python",
   "pygments_lexer": "ipython3",
   "version": "3.6.3"
  }
 },
 "nbformat": 4,
 "nbformat_minor": 2
}
