{
 "cells": [
  {
   "cell_type": "code",
   "execution_count": 1,
   "metadata": {
    "collapsed": true
   },
   "outputs": [],
   "source": [
    "import requests\n",
    "from bs4 import BeautifulSoup\n",
    "import re"
   ]
  },
  {
   "cell_type": "code",
   "execution_count": 2,
   "metadata": {},
   "outputs": [
    {
     "name": "stdout",
     "output_type": "stream",
     "text": [
      "<title>\n",
      "\t\tFDsys - Browse CREC\n",
      "\t\t\n",
      "\t</title>\n"
     ]
    }
   ],
   "source": [
    "page = requests.get('https://www.gpo.gov/fdsys/browse/collection.action?collectionCode=CREC')\n",
    "soup = BeautifulSoup(page.content, 'html.parser')\n",
    "print(soup.title)\n",
    "root_url = \"https://www.gpo.gov\""
   ]
  },
  {
   "cell_type": "code",
   "execution_count": 3,
   "metadata": {},
   "outputs": [
    {
     "data": {
      "text/plain": [
       "[<a href=\"#\" onclick=\"goWithVars('/fdsys/browse/collection.action?collectionCode=CREC&amp;browsePath=2018&amp;isCollapsed=false&amp;leafLevelBrowse=false',''); return false;\">\n",
       " <img alt=\"+\" src=\"/fdsysgpopages/images/plus.gif\" title=\"\">\n",
       " \t\t\t\t\t\t2018\n",
       " \t\t\t\t\t\n",
       " \t\t\t\t</img></a>,\n",
       " <a href=\"#\" onclick=\"goWithVars('/fdsys/browse/collection.action?collectionCode=CREC&amp;browsePath=2017&amp;isCollapsed=false&amp;leafLevelBrowse=false',''); return false;\">\n",
       " <img alt=\"+\" src=\"/fdsysgpopages/images/plus.gif\" title=\"\"/>\n",
       " \t\t\t\t\t\t2017\n",
       " \t\t\t\t\t\n",
       " \t\t\t\t</a>,\n",
       " <a href=\"#\" onclick=\"goWithVars('/fdsys/browse/collection.action?collectionCode=CREC&amp;browsePath=2016&amp;isCollapsed=false&amp;leafLevelBrowse=false',''); return false;\">\n",
       " <img alt=\"+\" src=\"/fdsysgpopages/images/plus.gif\" title=\"\"/>\n",
       " \t\t\t\t\t\t2016\n",
       " \t\t\t\t\t\n",
       " \t\t\t\t</a>,\n",
       " <a href=\"#\" onclick=\"goWithVars('/fdsys/browse/collection.action?collectionCode=CREC&amp;browsePath=2015&amp;isCollapsed=false&amp;leafLevelBrowse=false',''); return false;\">\n",
       " <img alt=\"+\" src=\"/fdsysgpopages/images/plus.gif\" title=\"\"/>\n",
       " \t\t\t\t\t\t2015\n",
       " \t\t\t\t\t\n",
       " \t\t\t\t</a>,\n",
       " <a href=\"#\" onclick=\"goWithVars('/fdsys/browse/collection.action?collectionCode=CREC&amp;browsePath=2014&amp;isCollapsed=false&amp;leafLevelBrowse=false',''); return false;\">\n",
       " <img alt=\"+\" src=\"/fdsysgpopages/images/plus.gif\" title=\"\"/>\n",
       " \t\t\t\t\t\t2014\n",
       " \t\t\t\t\t\n",
       " \t\t\t\t</a>,\n",
       " <a href=\"#\" onclick=\"goWithVars('/fdsys/browse/collection.action?collectionCode=CREC&amp;browsePath=2013&amp;isCollapsed=false&amp;leafLevelBrowse=false',''); return false;\">\n",
       " <img alt=\"+\" src=\"/fdsysgpopages/images/plus.gif\" title=\"\"/>\n",
       " \t\t\t\t\t\t2013\n",
       " \t\t\t\t\t\n",
       " \t\t\t\t</a>,\n",
       " <a href=\"#\" onclick=\"goWithVars('/fdsys/browse/collection.action?collectionCode=CREC&amp;browsePath=2012&amp;isCollapsed=false&amp;leafLevelBrowse=false',''); return false;\">\n",
       " <img alt=\"+\" src=\"/fdsysgpopages/images/plus.gif\" title=\"\"/>\n",
       " \t\t\t\t\t\t2012\n",
       " \t\t\t\t\t\n",
       " \t\t\t\t</a>,\n",
       " <a href=\"#\" onclick=\"goWithVars('/fdsys/browse/collection.action?collectionCode=CREC&amp;browsePath=2011&amp;isCollapsed=false&amp;leafLevelBrowse=false',''); return false;\">\n",
       " <img alt=\"+\" src=\"/fdsysgpopages/images/plus.gif\" title=\"\"/>\n",
       " \t\t\t\t\t\t2011\n",
       " \t\t\t\t\t\n",
       " \t\t\t\t</a>,\n",
       " <a href=\"#\" onclick=\"goWithVars('/fdsys/browse/collection.action?collectionCode=CREC&amp;browsePath=2010&amp;isCollapsed=false&amp;leafLevelBrowse=false',''); return false;\">\n",
       " <img alt=\"+\" src=\"/fdsysgpopages/images/plus.gif\" title=\"\"/>\n",
       " \t\t\t\t\t\t2010\n",
       " \t\t\t\t\t\n",
       " \t\t\t\t</a>,\n",
       " <a href=\"#\" onclick=\"goWithVars('/fdsys/browse/collection.action?collectionCode=CREC&amp;browsePath=2009&amp;isCollapsed=false&amp;leafLevelBrowse=false',''); return false;\">\n",
       " <img alt=\"+\" src=\"/fdsysgpopages/images/plus.gif\" title=\"\"/>\n",
       " \t\t\t\t\t\t2009\n",
       " \t\t\t\t\t\n",
       " \t\t\t\t</a>,\n",
       " <a href=\"#\" onclick=\"goWithVars('/fdsys/browse/collection.action?collectionCode=CREC&amp;browsePath=2008&amp;isCollapsed=false&amp;leafLevelBrowse=false',''); return false;\">\n",
       " <img alt=\"+\" src=\"/fdsysgpopages/images/plus.gif\" title=\"\"/>\n",
       " \t\t\t\t\t\t2008\n",
       " \t\t\t\t\t\n",
       " \t\t\t\t</a>,\n",
       " <a href=\"#\" onclick=\"goWithVars('/fdsys/browse/collection.action?collectionCode=CREC&amp;browsePath=2007&amp;isCollapsed=false&amp;leafLevelBrowse=false',''); return false;\">\n",
       " <img alt=\"+\" src=\"/fdsysgpopages/images/plus.gif\" title=\"\"/>\n",
       " \t\t\t\t\t\t2007\n",
       " \t\t\t\t\t\n",
       " \t\t\t\t</a>,\n",
       " <a href=\"#\" onclick=\"goWithVars('/fdsys/browse/collection.action?collectionCode=CREC&amp;browsePath=2006&amp;isCollapsed=false&amp;leafLevelBrowse=false',''); return false;\">\n",
       " <img alt=\"+\" src=\"/fdsysgpopages/images/plus.gif\" title=\"\"/>\n",
       " \t\t\t\t\t\t2006\n",
       " \t\t\t\t\t\n",
       " \t\t\t\t</a>,\n",
       " <a href=\"#\" onclick=\"goWithVars('/fdsys/browse/collection.action?collectionCode=CREC&amp;browsePath=2005&amp;isCollapsed=false&amp;leafLevelBrowse=false',''); return false;\">\n",
       " <img alt=\"+\" src=\"/fdsysgpopages/images/plus.gif\" title=\"\"/>\n",
       " \t\t\t\t\t\t2005\n",
       " \t\t\t\t\t\n",
       " \t\t\t\t</a>,\n",
       " <a href=\"#\" onclick=\"goWithVars('/fdsys/browse/collection.action?collectionCode=CREC&amp;browsePath=2004&amp;isCollapsed=false&amp;leafLevelBrowse=false',''); return false;\">\n",
       " <img alt=\"+\" src=\"/fdsysgpopages/images/plus.gif\" title=\"\"/>\n",
       " \t\t\t\t\t\t2004\n",
       " \t\t\t\t\t\n",
       " \t\t\t\t</a>,\n",
       " <a href=\"#\" onclick=\"goWithVars('/fdsys/browse/collection.action?collectionCode=CREC&amp;browsePath=2003&amp;isCollapsed=false&amp;leafLevelBrowse=false',''); return false;\">\n",
       " <img alt=\"+\" src=\"/fdsysgpopages/images/plus.gif\" title=\"\"/>\n",
       " \t\t\t\t\t\t2003\n",
       " \t\t\t\t\t\n",
       " \t\t\t\t</a>,\n",
       " <a href=\"#\" onclick=\"goWithVars('/fdsys/browse/collection.action?collectionCode=CREC&amp;browsePath=2002&amp;isCollapsed=false&amp;leafLevelBrowse=false',''); return false;\">\n",
       " <img alt=\"+\" src=\"/fdsysgpopages/images/plus.gif\" title=\"\"/>\n",
       " \t\t\t\t\t\t2002\n",
       " \t\t\t\t\t\n",
       " \t\t\t\t</a>,\n",
       " <a href=\"#\" onclick=\"goWithVars('/fdsys/browse/collection.action?collectionCode=CREC&amp;browsePath=2001&amp;isCollapsed=false&amp;leafLevelBrowse=false',''); return false;\">\n",
       " <img alt=\"+\" src=\"/fdsysgpopages/images/plus.gif\" title=\"\"/>\n",
       " \t\t\t\t\t\t2001\n",
       " \t\t\t\t\t\n",
       " \t\t\t\t</a>,\n",
       " <a href=\"#\" onclick=\"goWithVars('/fdsys/browse/collection.action?collectionCode=CREC&amp;browsePath=2000&amp;isCollapsed=false&amp;leafLevelBrowse=false',''); return false;\">\n",
       " <img alt=\"+\" src=\"/fdsysgpopages/images/plus.gif\" title=\"\"/>\n",
       " \t\t\t\t\t\t2000\n",
       " \t\t\t\t\t\n",
       " \t\t\t\t</a>,\n",
       " <a href=\"#\" onclick=\"goWithVars('/fdsys/browse/collection.action?collectionCode=CREC&amp;browsePath=1999&amp;isCollapsed=false&amp;leafLevelBrowse=false',''); return false;\">\n",
       " <img alt=\"+\" src=\"/fdsysgpopages/images/plus.gif\" title=\"\"/>\n",
       " \t\t\t\t\t\t1999\n",
       " \t\t\t\t\t\n",
       " \t\t\t\t</a>,\n",
       " <a href=\"#\" onclick=\"goWithVars('/fdsys/browse/collection.action?collectionCode=CREC&amp;browsePath=1998&amp;isCollapsed=false&amp;leafLevelBrowse=false',''); return false;\">\n",
       " <img alt=\"+\" src=\"/fdsysgpopages/images/plus.gif\" title=\"\"/>\n",
       " \t\t\t\t\t\t1998\n",
       " \t\t\t\t\t\n",
       " \t\t\t\t</a>,\n",
       " <a href=\"#\" onclick=\"goWithVars('/fdsys/browse/collection.action?collectionCode=CREC&amp;browsePath=1997&amp;isCollapsed=false&amp;leafLevelBrowse=false',''); return false;\">\n",
       " <img alt=\"+\" src=\"/fdsysgpopages/images/plus.gif\" title=\"\"/>\n",
       " \t\t\t\t\t\t1997\n",
       " \t\t\t\t\t\n",
       " \t\t\t\t</a>,\n",
       " <a href=\"#\" onclick=\"goWithVars('/fdsys/browse/collection.action?collectionCode=CREC&amp;browsePath=1996&amp;isCollapsed=false&amp;leafLevelBrowse=false',''); return false;\">\n",
       " <img alt=\"+\" src=\"/fdsysgpopages/images/plus.gif\" title=\"\"/>\n",
       " \t\t\t\t\t\t1996\n",
       " \t\t\t\t\t\n",
       " \t\t\t\t</a>,\n",
       " <a href=\"#\" onclick=\"goWithVars('/fdsys/browse/collection.action?collectionCode=CREC&amp;browsePath=1995&amp;isCollapsed=false&amp;leafLevelBrowse=false',''); return false;\">\n",
       " <img alt=\"+\" src=\"/fdsysgpopages/images/plus.gif\" title=\"\"/>\n",
       " \t\t\t\t\t\t1995\n",
       " \t\t\t\t\t\n",
       " \t\t\t\t</a>,\n",
       " <a href=\"#\" onclick=\"goWithVars('/fdsys/browse/collection.action?collectionCode=CREC&amp;browsePath=1994&amp;isCollapsed=false&amp;leafLevelBrowse=false',''); return false;\">\n",
       " <img alt=\"+\" src=\"/fdsysgpopages/images/plus.gif\" title=\"\"/>\n",
       " \t\t\t\t\t\t1994\n",
       " \t\t\t\t\t\n",
       " \t\t\t\t</a>]"
      ]
     },
     "execution_count": 3,
     "metadata": {},
     "output_type": "execute_result"
    }
   ],
   "source": [
    "year_tags = soup.find_all(\"a\")[26:51]\n",
    "year_tags"
   ]
  },
  {
   "cell_type": "code",
   "execution_count": 4,
   "metadata": {},
   "outputs": [
    {
     "name": "stdout",
     "output_type": "stream",
     "text": [
      "goWithVars('/fdsys/browse/collection.action?collectionCode=CREC&browsePath=2018&isCollapsed=false&leafLevelBrowse=false',''); return false;\n",
      "None\n"
     ]
    }
   ],
   "source": [
    "for year_tag in year_tags:\n",
    "    print(str(year_tag['onclick']))\n",
    "    onclick = re.match('^\\/fdsys&false$', str(year_tag['onclick']))\n",
    "    print(onclick)\n",
    "    next_year = root_url + year_tag['onclick']\n",
    "#     next_year_page = requests.get(next_year)\n",
    "#     next_year_soup = BeautifulSoup(next_year_page.content, 'html.parser')\n",
    "#     print(next_year_soup.title)\n",
    "    break"
   ]
  },
  {
   "cell_type": "code",
   "execution_count": null,
   "metadata": {
    "collapsed": true
   },
   "outputs": [],
   "source": []
  }
 ],
 "metadata": {
  "kernelspec": {
   "display_name": "Python 3",
   "language": "python",
   "name": "python3"
  },
  "language_info": {
   "codemirror_mode": {
    "name": "ipython",
    "version": 3
   },
   "file_extension": ".py",
   "mimetype": "text/x-python",
   "name": "python",
   "nbconvert_exporter": "python",
   "pygments_lexer": "ipython3",
   "version": "3.6.3"
  }
 },
 "nbformat": 4,
 "nbformat_minor": 2
}
