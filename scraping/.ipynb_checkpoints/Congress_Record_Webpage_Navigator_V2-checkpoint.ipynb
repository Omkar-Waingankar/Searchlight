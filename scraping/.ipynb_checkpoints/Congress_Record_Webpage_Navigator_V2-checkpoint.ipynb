{
 "cells": [
  {
   "cell_type": "code",
   "execution_count": 1,
   "metadata": {
    "collapsed": true
   },
   "outputs": [],
   "source": [
    "import pandas\n",
    "import urllib\n",
    "from selenium import webdriver\n",
    "import numpy as np\n",
    "from time import sleep\n",
    "import requests\n",
    "from bs4 import BeautifulSoup\n",
    "import re"
   ]
  },
  {
   "cell_type": "code",
   "execution_count": 2,
   "metadata": {
    "collapsed": true
   },
   "outputs": [],
   "source": [
    "gpo=webdriver.Chrome()\n",
    "gpo.get('https://www.gpo.gov/fdsys/browse/collection.action?collectionCode=CREC')\n"
   ]
  },
  {
   "cell_type": "code",
   "execution_count": 3,
   "metadata": {
    "collapsed": true
   },
   "outputs": [],
   "source": [
    "def extract_text(gpo):\n",
    "    try:\n",
    "        handles = list(gpo.window_handles)\n",
    "        assert len(handles) > 1\n",
    "        gpo.switch_to_window(handles[1])\n",
    "        extracted_stuff = extract_text_from_url(gpo.current_url)\n",
    "\n",
    "        ## create a file in local repository\n",
    "        file_name = create_text_file_name(gpo.current_url)\n",
    "        file = open(file_name,'w')\n",
    "        file.write(extracted_stuff)\n",
    "        file.close()\n",
    "        print(\"try close\")\n",
    "        gpo.close()\n",
    "        return file_name\n",
    "    except:\n",
    "        print(\"except close\")\n",
    "        gpo.close()\n",
    "    "
   ]
  },
  {
   "cell_type": "code",
   "execution_count": 4,
   "metadata": {
    "collapsed": true
   },
   "outputs": [],
   "source": [
    "def extract_mods(gpo, txt_file_name):\n",
    "    try:\n",
    "        handles = list(gpo.window_handles)\n",
    "        assert len(handles) > 1\n",
    "        gpo.switch_to_window(handles[1])\n",
    "\n",
    "        mods_url = gpo.current_url\n",
    "        sleep(1)\n",
    "        extracted_stuff = extract_mods_from_url(mods_url)\n",
    "\n",
    "        ## create a file in local repository\n",
    "        file_name = txt_file_name[0:-3] + 'xml'\n",
    "        file = open(file_name, 'w')\n",
    "        file.write(extracted_stuff)\n",
    "        file.close()\n",
    "        print(\"try close\")\n",
    "        gpo.close()\n",
    "    except:\n",
    "        print(\"except close\")\n",
    "        gpo.close()"
   ]
  },
  {
   "cell_type": "code",
   "execution_count": 5,
   "metadata": {
    "collapsed": true
   },
   "outputs": [],
   "source": [
    "def create_text_file_name(url):\n",
    "    pattern = '(?<=html/).*'\n",
    "    name = re.findall(pattern, url)\n",
    "    return name[0][:-3] + 'txt' "
   ]
  },
  {
   "cell_type": "code",
   "execution_count": 6,
   "metadata": {
    "collapsed": true
   },
   "outputs": [],
   "source": [
    "def extract_mods_from_url(url):\n",
    "    stuff = requests.get(url)\n",
    "    stuff_parsed = BeautifulSoup(stuff.content, 'xml')\n",
    "    return str(stuff_parsed.find_all('mods')[0])"
   ]
  },
  {
   "cell_type": "code",
   "execution_count": 7,
   "metadata": {
    "collapsed": true
   },
   "outputs": [],
   "source": [
    "def extract_text_from_url(url):\n",
    "    stuff = requests.get(url)\n",
    "    stuff_parsed = BeautifulSoup(stuff.content, \"html\")\n",
    "    return stuff_parsed.get_text()"
   ]
  },
  {
   "cell_type": "code",
   "execution_count": null,
   "metadata": {},
   "outputs": [],
   "source": [
    "april = 7\n",
    "DAY = 2\n",
    "year = gpo.find_elements_by_xpath(\".//div[@class='level1 browse-level']/a\")\n",
    "for i in np.arange(len(year)):\n",
    "    if i == 1:\n",
    "        break\n",
    "    time_y = i\n",
    "    year = gpo.find_elements_by_xpath(\".//div[@class='level1 browse-level']/a\")\n",
    "    x = year[i].click()\n",
    "    month = gpo.find_elements_by_xpath(\".//div[@class='level2 browse-level']/a\")\n",
    "    for i in np.arange(len(month)):\n",
    "        time_m = i\n",
    "        month = gpo.find_elements_by_xpath(\".//div[@class='level2 browse-level']/a\")\n",
    "        month[i].click()\n",
    "        day = gpo.find_elements_by_xpath(\".//div[@class='level3 browse-level']/a\")\n",
    "        print(len(day))\n",
    "        for i in np.arange(len(day)):\n",
    "            print(i)\n",
    "            time_d = i\n",
    "            day = gpo.find_elements_by_xpath(\".//div[@class='level3 browse-level']/a\")\n",
    "            print(i)\n",
    "            day[i].click()\n",
    "            try: \n",
    "                print(i)\n",
    "                house = gpo.find_element_by_partial_link_text('House')\n",
    "                house.click()\n",
    "                house_more = gpo.find_elements_by_partial_link_text('More')\n",
    "                house_more = house_more[1:]\n",
    "                print(len(house_more))\n",
    "                print(house_more)\n",
    "                for j in np.arange(len(house_more)):\n",
    "                    position = 1\n",
    "                    subposition = 1\n",
    "                    try:\n",
    "                        print(\"       \", j)\n",
    "                        house_more = gpo.find_elements_by_partial_link_text('More')\n",
    "                        subposition = 2\n",
    "                        house_more = house_more[1:]\n",
    "                        subposition = 3\n",
    "                        \n",
    "                        position = 2\n",
    "\n",
    "                        house_more[j].click()\n",
    "                        subposition = 2\n",
    "                        house_text = gpo.find_element_by_xpath('.//tr/td[3]/div/table[1]/tbody/tr[1]/td[2]/a[1]')\n",
    "                        subposition = 3\n",
    "                        house_mods = gpo.find_element_by_xpath('.//tr/td[3]/div/table[1]/tbody/tr[2]/td[2]/a')\n",
    "                        subposition = 4\n",
    "                        default_handle = gpo.current_window_handle\n",
    "                        subposition = 5\n",
    "                        house_text.click()\n",
    "                        subposition = 6\n",
    "                        \n",
    "                        position = 3\n",
    "\n",
    "                        #changing default window & save file, return name\n",
    "                        text_file_name = extract_text(gpo)\n",
    "                        \n",
    "                        position = 4\n",
    "\n",
    "                        #return to main window\n",
    "                        gpo.switch_to_window(default_handle)\n",
    "                        \n",
    "                        position = 5\n",
    "\n",
    "                        #go to mods page & save file\n",
    "                        house_mods.click()\n",
    "                        subposition = 2\n",
    "                        extract_mods(gpo, text_file_name)\n",
    "                        \n",
    "                        position = 6\n",
    "\n",
    "                        #return to main window\n",
    "                        gpo.switch_to_window(default_handle)\n",
    "                        \n",
    "                        position = 7\n",
    "                        \n",
    "                        gpo.back()\n",
    "                        \n",
    "                        position = 8\n",
    "                        \n",
    "                    except:\n",
    "                        print(\"failed\", j)\n",
    "                        print(gpo.current_url)\n",
    "                        print(position)\n",
    "                        print(subposition)\n",
    "                        gpo.back()\n",
    "            except:\n",
    "                print(i, \"Did not find house\")\n",
    "                print(gpo.current_url)\n",
    "            \n",
    "            try:\n",
    "                print(i)\n",
    "                senate = gpo.find_element_by_partial_link_text('Senate')\n",
    "                senate.click()\n",
    "                senate_more = gpo.find_elements_by_partial_link_text('More')\n",
    "                senate_more = senate_more[1:]\n",
    "                print(len(senate_more))\n",
    "                print(senate_more)\n",
    "                for j in np.arange(len(senate_more)):\n",
    "                    position = 1\n",
    "                    subposition = 1\n",
    "                    try:\n",
    "                        senate_more = gpo.find_elements_by_partial_link_text('More')\n",
    "                        subposition = 2\n",
    "                        senate_more = senate_more[1:]\n",
    "                        subposition = 3\n",
    "                        \n",
    "                        position = 2\n",
    "\n",
    "                        senate_more[j].click()\n",
    "                        subposition = 2\n",
    "                        senate_text = gpo.find_element_by_xpath('.//tr/td[3]/div/table[1]/tbody/tr[1]/td[2]/a[1]')\n",
    "                        subposition = 3\n",
    "                        senate_mods = gpo.find_element_by_xpath('.//tr/td[3]/div/table[1]/tbody/tr[2]/td[2]/a')\n",
    "                        subposition = 4\n",
    "                        default_handle = gpo.current_window_handle\n",
    "                        subposition = 5\n",
    "                        senate_text.click()\n",
    "                        subposition = 6\n",
    "                        \n",
    "                        position = 3\n",
    "\n",
    "                        #changing default window & save file, return name\n",
    "                        text_file_name = extract_text(gpo)\n",
    "                        \n",
    "                        position = 4\n",
    "\n",
    "                        #return to main window\n",
    "                        gpo.switch_to_window(default_handle)\n",
    "                        \n",
    "                        position = 5\n",
    "\n",
    "                        #go to mods page & save file\n",
    "                        senate_mods.click()\n",
    "                        subposition = 2\n",
    "                        extract_mods(gpo, text_file_name)\n",
    "                        \n",
    "                        position = 6\n",
    "\n",
    "                        #return to main window\n",
    "                        gpo.switch_to_window(default_handle)\n",
    "                        \n",
    "                        position = 7\n",
    "                        \n",
    "                        gpo.back()\n",
    "                        \n",
    "                        position = 8\n",
    "                    except:\n",
    "                        print(\"failed\", j)\n",
    "                        print(gpo.current_url)\n",
    "                        print(position)\n",
    "                        print(subposition)\n",
    "                        gpo.back()\n",
    "            except:\n",
    "                print(i, \"Did not find senate\")\n",
    "                print(gpo.current_url)\n",
    "                \n",
    "            #break\n",
    "            gpo.back()\n",
    "        #break\n",
    "        gpo.back()\n",
    "    #break\n",
    "    gpo.back()"
   ]
  },
  {
   "cell_type": "code",
   "execution_count": null,
   "metadata": {
    "collapsed": true
   },
   "outputs": [],
   "source": []
  },
  {
   "cell_type": "code",
   "execution_count": null,
   "metadata": {
    "collapsed": true
   },
   "outputs": [],
   "source": []
  },
  {
   "cell_type": "code",
   "execution_count": null,
   "metadata": {
    "collapsed": true
   },
   "outputs": [],
   "source": []
  },
  {
   "cell_type": "code",
   "execution_count": null,
   "metadata": {
    "collapsed": true
   },
   "outputs": [],
   "source": []
  },
  {
   "cell_type": "code",
   "execution_count": null,
   "metadata": {
    "collapsed": true
   },
   "outputs": [],
   "source": []
  }
 ],
 "metadata": {
  "kernelspec": {
   "display_name": "Python 3",
   "language": "python",
   "name": "python3"
  },
  "language_info": {
   "codemirror_mode": {
    "name": "ipython",
    "version": 3
   },
   "file_extension": ".py",
   "mimetype": "text/x-python",
   "name": "python",
   "nbconvert_exporter": "python",
   "pygments_lexer": "ipython3",
   "version": "3.6.3"
  }
 },
 "nbformat": 4,
 "nbformat_minor": 2
}
