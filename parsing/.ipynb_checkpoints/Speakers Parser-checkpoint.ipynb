{
 "cells": [
  {
   "cell_type": "markdown",
   "metadata": {},
   "source": [
    "# Initialization"
   ]
  },
  {
   "cell_type": "code",
   "execution_count": 23,
   "metadata": {
    "collapsed": true
   },
   "outputs": [],
   "source": [
    "import pandas as pd\n",
    "import re\n",
    "import numpy as np\n",
    "import urllib\n",
    "from bs4 import BeautifulSoup as Soup\n",
    "import os"
   ]
  },
  {
   "cell_type": "code",
   "execution_count": 195,
   "metadata": {},
   "outputs": [],
   "source": [
    "speakers = pd.DataFrame(columns=[\"speaker_id\", \n",
    "                                \"first_name\", \n",
    "                                \"last_name\", \n",
    "                                \"type\",\n",
    "                                \"party\", \n",
    "                                \"state\", \n",
    "                                \"district\",\n",
    "                                \"bio_guide_id\",\n",
    "                                \"congress_id\"])"
   ]
  },
  {
   "cell_type": "code",
   "execution_count": 196,
   "metadata": {},
   "outputs": [
    {
     "data": {
      "text/html": [
       "<div>\n",
       "<style>\n",
       "    .dataframe thead tr:only-child th {\n",
       "        text-align: right;\n",
       "    }\n",
       "\n",
       "    .dataframe thead th {\n",
       "        text-align: left;\n",
       "    }\n",
       "\n",
       "    .dataframe tbody tr th {\n",
       "        vertical-align: top;\n",
       "    }\n",
       "</style>\n",
       "<table border=\"1\" class=\"dataframe\">\n",
       "  <thead>\n",
       "    <tr style=\"text-align: right;\">\n",
       "      <th></th>\n",
       "      <th>speaker_id</th>\n",
       "      <th>first_name</th>\n",
       "      <th>last_name</th>\n",
       "      <th>type</th>\n",
       "      <th>party</th>\n",
       "      <th>state</th>\n",
       "      <th>district</th>\n",
       "      <th>bio_guide_id</th>\n",
       "      <th>congress_id</th>\n",
       "    </tr>\n",
       "  </thead>\n",
       "  <tbody>\n",
       "  </tbody>\n",
       "</table>\n",
       "</div>"
      ],
      "text/plain": [
       "Empty DataFrame\n",
       "Columns: [speaker_id, first_name, last_name, type, party, state, district, bio_guide_id, congress_id]\n",
       "Index: []"
      ]
     },
     "execution_count": 196,
     "metadata": {},
     "output_type": "execute_result"
    }
   ],
   "source": [
    "speakers"
   ]
  },
  {
   "cell_type": "markdown",
   "metadata": {},
   "source": [
    "# Master Mods Parsing"
   ]
  },
  {
   "cell_type": "code",
   "execution_count": 197,
   "metadata": {
    "collapsed": true
   },
   "outputs": [],
   "source": [
    "def get_all_extensions(file):\n",
    "    handler = open(file).read()\n",
    "    soup = Soup(handler, \"lxml\")\n",
    "    return soup.find_all(\"extension\")"
   ]
  },
  {
   "cell_type": "code",
   "execution_count": 198,
   "metadata": {},
   "outputs": [],
   "source": [
    "# extensions = get_all_extensions(\"mastermods.xml\")"
   ]
  },
  {
   "cell_type": "code",
   "execution_count": 199,
   "metadata": {
    "collapsed": true
   },
   "outputs": [],
   "source": [
    "def get_cong_member_tag(cong_member_extension):\n",
    "    cong_member_tag = cong_member_extension.find(\"congmember\")\n",
    "    return cong_member_tag"
   ]
  },
  {
   "cell_type": "code",
   "execution_count": 200,
   "metadata": {},
   "outputs": [],
   "source": [
    "def get_party(cong_member_tag):\n",
    "    try:\n",
    "        return cong_member_tag.attrs['party']\n",
    "    except:\n",
    "        print(\"no party\")\n",
    "        print(cong_member_tag)\n",
    "def get_type(cong_member_tag):\n",
    "    try:\n",
    "        return cong_member_tag.attrs['type']\n",
    "    except:\n",
    "        print(\"no type\")\n",
    "        print(cong_member_tag)\n",
    "def get_authority_id(cong_member_tag):\n",
    "    try:\n",
    "        return cong_member_tag.attrs['authorityid']\n",
    "    except:\n",
    "        print(\"no authority_id\")\n",
    "        print(cong_member_tag)\n",
    "def get_bioguide_id(cong_member_tag):\n",
    "    try:\n",
    "        return cong_member_tag.attrs['bioguideid']\n",
    "    except:\n",
    "        print(\"no bioguide_id\")\n",
    "        print(cong_member_tag)\n",
    "def get_state(cong_member_tag):\n",
    "    try:\n",
    "        return cong_member_tag.attrs['state']\n",
    "    except:\n",
    "        print(\"no state\")\n",
    "        print(cong_member_tag)\n",
    "def get_congress_id(cong_member_tag):\n",
    "    try:\n",
    "        return cong_member_tag.attrs['congress']\n",
    "    except:\n",
    "        print(\"no congress_id\")\n",
    "        print(cong_member_tag)"
   ]
  },
  {
   "cell_type": "code",
   "execution_count": 201,
   "metadata": {
    "collapsed": true
   },
   "outputs": [],
   "source": [
    "def get_district(cong_member_extension):\n",
    "    district_tag = cong_member_extension.find(\"district\")\n",
    "    if district_tag == None:\n",
    "        return None\n",
    "    return district_tag.string"
   ]
  },
  {
   "cell_type": "code",
   "execution_count": 202,
   "metadata": {
    "collapsed": true
   },
   "outputs": [],
   "source": [
    "def get_first_name(cong_member_tag):\n",
    "    name_tag = cong_member_tag.select(\"name[type='authority-fnf']\")[0]\n",
    "    if name_tag == []:\n",
    "        print(\"no first_name\")\n",
    "        print(cong_member_tag)\n",
    "        return None\n",
    "    first_name = name_tag.text.split()[0]\n",
    "    return first_name"
   ]
  },
  {
   "cell_type": "code",
   "execution_count": 203,
   "metadata": {},
   "outputs": [],
   "source": [
    "def get_last_name(cong_member_tag):\n",
    "    name_tag = cong_member_tag.select(\"name[type='authority-lnf']\")[0]\n",
    "    if name_tag == []:\n",
    "        print(\"no first_name\")\n",
    "        print(cong_member_tag)\n",
    "        return None\n",
    "    full_name = name_tag.string\n",
    "    return re.match(\"[^,]*\", full_name).group(0)"
   ]
  },
  {
   "cell_type": "code",
   "execution_count": 204,
   "metadata": {},
   "outputs": [
    {
     "name": "stdout",
     "output_type": "stream",
     "text": [
      "            mods113.xml\n",
      "            mods107.xml\n",
      "            mods106.xml\n",
      "            mods112.xml\n",
      "no authority_id\n",
      "<congmember chamber=\"H\" congress=\"112\" state=\"NJ\" type=\"REPRESENTATIVE\">\n",
      "<name type=\"parsed\">DONALD M. PAYNE</name>\n",
      "</congmember>\n",
      "            mods110.xml\n",
      "            mods111.xml\n",
      "            mods105.xml\n",
      "            mods114.xml\n",
      "            mods108.xml\n",
      "            mods109.xml\n"
     ]
    }
   ],
   "source": [
    "filenames = os.listdir(\"/Users/halliday/projects/searchlight/parsing/mastermods\")\n",
    "filenames.remove('.DS_Store')\n",
    "for filename in filenames:\n",
    "    extensions = get_all_extensions(\"/Users/halliday/projects/searchlight/parsing/mastermods/\" + filename)\n",
    "    print(\"            \" + filename)\n",
    "    for extension in extensions:\n",
    "        cong_member_tag = get_cong_member_tag(extension)\n",
    "        if cong_member_tag == None:\n",
    "            continue\n",
    "        counter += 1\n",
    "#         if filename == 'mods112.xml':\n",
    "#             print(cong_member_tag)\n",
    "        authority_id = get_authority_id(cong_member_tag)\n",
    "        if speakers[speakers['speaker_id'] == authority_id]['speaker_id'].count() > 0 or authority_id == \"\" or authority_id == None:\n",
    "            continue\n",
    "        cong_member_dict = {'speaker_id': authority_id, \n",
    "                            'first_name': get_first_name(cong_member_tag),\n",
    "                            'last_name': get_last_name(cong_member_tag),\n",
    "                            'type': get_type(cong_member_tag),\n",
    "                            'party': get_party(cong_member_tag),\n",
    "                            'state': get_state(cong_member_tag),\n",
    "                            'district': get_district(extension),\n",
    "                            'bio_guide_id': get_bioguide_id(cong_member_tag),\n",
    "                            'congress_id': get_congress_id(cong_member_tag)}\n",
    "        speakers = speakers.append(cong_member_dict, ignore_index=True)"
   ]
  },
  {
   "cell_type": "code",
   "execution_count": 216,
   "metadata": {},
   "outputs": [],
   "source": [
    "speakers = speakers.sort_values('last_name')"
   ]
  },
  {
   "cell_type": "code",
   "execution_count": 219,
   "metadata": {},
   "outputs": [],
   "source": [
    "speakers.to_csv('masterspeakers.csv', index=False)"
   ]
  },
  {
   "cell_type": "markdown",
   "metadata": {},
   "source": [
    "# Speeches Parsing + Local Mods Connection"
   ]
  },
  {
   "cell_type": "code",
   "execution_count": null,
   "metadata": {
    "collapsed": true
   },
   "outputs": [],
   "source": []
  }
 ],
 "metadata": {
  "kernelspec": {
   "display_name": "Python 3",
   "language": "python",
   "name": "python3"
  },
  "language_info": {
   "codemirror_mode": {
    "name": "ipython",
    "version": 3
   },
   "file_extension": ".py",
   "mimetype": "text/x-python",
   "name": "python",
   "nbconvert_exporter": "python",
   "pygments_lexer": "ipython3",
   "version": "3.6.3"
  }
 },
 "nbformat": 4,
 "nbformat_minor": 2
}
